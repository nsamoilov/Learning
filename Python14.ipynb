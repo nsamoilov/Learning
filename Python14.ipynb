{
 "cells": [
  {
   "cell_type": "code",
   "execution_count": 2,
   "id": "5f62480f",
   "metadata": {},
   "outputs": [],
   "source": [
    "import pandas as pd\n",
    "import numpy as np\n",
    "import matplotlib.pyplot as plt\n",
    "import seaborn as sns\n",
    "from scipy import stats\n",
    "import statsmodels.api as sm"
   ]
  },
  {
   "cell_type": "markdown",
   "id": "bdff2e80",
   "metadata": {},
   "source": [
    "### Загрузка и подготовка данных"
   ]
  },
  {
   "cell_type": "code",
   "execution_count": 3,
   "id": "3b4aa486",
   "metadata": {},
   "outputs": [],
   "source": [
    "data = pd.read_csv(r\"C:\\Courses\\Innopolis\\2024\\ПИШ\\Часть 2.2\\Консультация\\all_v2.csv\")"
   ]
  },
  {
   "cell_type": "code",
   "execution_count": 4,
   "id": "65585e58",
   "metadata": {
    "scrolled": true
   },
   "outputs": [
    {
     "data": {
      "text/html": [
       "<div>\n",
       "<style scoped>\n",
       "    .dataframe tbody tr th:only-of-type {\n",
       "        vertical-align: middle;\n",
       "    }\n",
       "\n",
       "    .dataframe tbody tr th {\n",
       "        vertical-align: top;\n",
       "    }\n",
       "\n",
       "    .dataframe thead th {\n",
       "        text-align: right;\n",
       "    }\n",
       "</style>\n",
       "<table border=\"1\" class=\"dataframe\">\n",
       "  <thead>\n",
       "    <tr style=\"text-align: right;\">\n",
       "      <th></th>\n",
       "      <th>price</th>\n",
       "      <th>date</th>\n",
       "      <th>time</th>\n",
       "      <th>geo_lat</th>\n",
       "      <th>geo_lon</th>\n",
       "      <th>region</th>\n",
       "      <th>building_type</th>\n",
       "      <th>level</th>\n",
       "      <th>levels</th>\n",
       "      <th>rooms</th>\n",
       "      <th>area</th>\n",
       "      <th>kitchen_area</th>\n",
       "      <th>object_type</th>\n",
       "    </tr>\n",
       "  </thead>\n",
       "  <tbody>\n",
       "    <tr>\n",
       "      <th>0</th>\n",
       "      <td>6050000</td>\n",
       "      <td>2018-02-19</td>\n",
       "      <td>20:00:21</td>\n",
       "      <td>59.805808</td>\n",
       "      <td>30.376141</td>\n",
       "      <td>2661</td>\n",
       "      <td>1</td>\n",
       "      <td>8</td>\n",
       "      <td>10</td>\n",
       "      <td>3</td>\n",
       "      <td>82.6</td>\n",
       "      <td>10.8</td>\n",
       "      <td>1</td>\n",
       "    </tr>\n",
       "    <tr>\n",
       "      <th>1</th>\n",
       "      <td>8650000</td>\n",
       "      <td>2018-02-27</td>\n",
       "      <td>12:04:54</td>\n",
       "      <td>55.683807</td>\n",
       "      <td>37.297405</td>\n",
       "      <td>81</td>\n",
       "      <td>3</td>\n",
       "      <td>5</td>\n",
       "      <td>24</td>\n",
       "      <td>2</td>\n",
       "      <td>69.1</td>\n",
       "      <td>12.0</td>\n",
       "      <td>1</td>\n",
       "    </tr>\n",
       "    <tr>\n",
       "      <th>2</th>\n",
       "      <td>4000000</td>\n",
       "      <td>2018-02-28</td>\n",
       "      <td>15:44:00</td>\n",
       "      <td>56.295250</td>\n",
       "      <td>44.061637</td>\n",
       "      <td>2871</td>\n",
       "      <td>1</td>\n",
       "      <td>5</td>\n",
       "      <td>9</td>\n",
       "      <td>3</td>\n",
       "      <td>66.0</td>\n",
       "      <td>10.0</td>\n",
       "      <td>1</td>\n",
       "    </tr>\n",
       "    <tr>\n",
       "      <th>3</th>\n",
       "      <td>1850000</td>\n",
       "      <td>2018-03-01</td>\n",
       "      <td>11:24:52</td>\n",
       "      <td>44.996132</td>\n",
       "      <td>39.074783</td>\n",
       "      <td>2843</td>\n",
       "      <td>4</td>\n",
       "      <td>12</td>\n",
       "      <td>16</td>\n",
       "      <td>2</td>\n",
       "      <td>38.0</td>\n",
       "      <td>5.0</td>\n",
       "      <td>11</td>\n",
       "    </tr>\n",
       "    <tr>\n",
       "      <th>4</th>\n",
       "      <td>5450000</td>\n",
       "      <td>2018-03-01</td>\n",
       "      <td>17:42:43</td>\n",
       "      <td>55.918767</td>\n",
       "      <td>37.984642</td>\n",
       "      <td>81</td>\n",
       "      <td>3</td>\n",
       "      <td>13</td>\n",
       "      <td>14</td>\n",
       "      <td>2</td>\n",
       "      <td>60.0</td>\n",
       "      <td>10.0</td>\n",
       "      <td>1</td>\n",
       "    </tr>\n",
       "  </tbody>\n",
       "</table>\n",
       "</div>"
      ],
      "text/plain": [
       "     price        date      time    geo_lat    geo_lon  region  building_type  \\\n",
       "0  6050000  2018-02-19  20:00:21  59.805808  30.376141    2661              1   \n",
       "1  8650000  2018-02-27  12:04:54  55.683807  37.297405      81              3   \n",
       "2  4000000  2018-02-28  15:44:00  56.295250  44.061637    2871              1   \n",
       "3  1850000  2018-03-01  11:24:52  44.996132  39.074783    2843              4   \n",
       "4  5450000  2018-03-01  17:42:43  55.918767  37.984642      81              3   \n",
       "\n",
       "   level  levels  rooms  area  kitchen_area  object_type  \n",
       "0      8      10      3  82.6          10.8            1  \n",
       "1      5      24      2  69.1          12.0            1  \n",
       "2      5       9      3  66.0          10.0            1  \n",
       "3     12      16      2  38.0           5.0           11  \n",
       "4     13      14      2  60.0          10.0            1  "
      ]
     },
     "execution_count": 4,
     "metadata": {},
     "output_type": "execute_result"
    }
   ],
   "source": [
    "data.head()"
   ]
  },
  {
   "cell_type": "code",
   "execution_count": 5,
   "id": "1defa9d9",
   "metadata": {},
   "outputs": [
    {
     "data": {
      "text/plain": [
       "(5477006, 13)"
      ]
     },
     "execution_count": 5,
     "metadata": {},
     "output_type": "execute_result"
    }
   ],
   "source": [
    "data.shape"
   ]
  },
  {
   "cell_type": "code",
   "execution_count": 6,
   "id": "85d1b088",
   "metadata": {},
   "outputs": [
    {
     "data": {
      "text/html": [
       "<div>\n",
       "<style scoped>\n",
       "    .dataframe tbody tr th:only-of-type {\n",
       "        vertical-align: middle;\n",
       "    }\n",
       "\n",
       "    .dataframe tbody tr th {\n",
       "        vertical-align: top;\n",
       "    }\n",
       "\n",
       "    .dataframe thead th {\n",
       "        text-align: right;\n",
       "    }\n",
       "</style>\n",
       "<table border=\"1\" class=\"dataframe\">\n",
       "  <thead>\n",
       "    <tr style=\"text-align: right;\">\n",
       "      <th></th>\n",
       "      <th>price</th>\n",
       "      <th>date</th>\n",
       "      <th>time</th>\n",
       "      <th>geo_lat</th>\n",
       "      <th>geo_lon</th>\n",
       "      <th>region</th>\n",
       "      <th>building_type</th>\n",
       "      <th>level</th>\n",
       "      <th>levels</th>\n",
       "      <th>rooms</th>\n",
       "      <th>area</th>\n",
       "      <th>kitchen_area</th>\n",
       "      <th>object_type</th>\n",
       "    </tr>\n",
       "  </thead>\n",
       "  <tbody>\n",
       "    <tr>\n",
       "      <th>0</th>\n",
       "      <td>13719304</td>\n",
       "      <td>2020-06-02</td>\n",
       "      <td>21:21:22</td>\n",
       "      <td>55.869536</td>\n",
       "      <td>37.458076</td>\n",
       "      <td>3</td>\n",
       "      <td>2</td>\n",
       "      <td>5</td>\n",
       "      <td>20</td>\n",
       "      <td>1</td>\n",
       "      <td>53.00</td>\n",
       "      <td>10.0</td>\n",
       "      <td>11</td>\n",
       "    </tr>\n",
       "    <tr>\n",
       "      <th>1</th>\n",
       "      <td>1601000</td>\n",
       "      <td>2019-06-30</td>\n",
       "      <td>06:06:07</td>\n",
       "      <td>55.030393</td>\n",
       "      <td>83.015545</td>\n",
       "      <td>9654</td>\n",
       "      <td>1</td>\n",
       "      <td>5</td>\n",
       "      <td>10</td>\n",
       "      <td>3</td>\n",
       "      <td>59.02</td>\n",
       "      <td>8.5</td>\n",
       "      <td>11</td>\n",
       "    </tr>\n",
       "    <tr>\n",
       "      <th>2</th>\n",
       "      <td>1200000</td>\n",
       "      <td>2019-08-21</td>\n",
       "      <td>02:37:16</td>\n",
       "      <td>55.030393</td>\n",
       "      <td>83.015545</td>\n",
       "      <td>9654</td>\n",
       "      <td>1</td>\n",
       "      <td>1</td>\n",
       "      <td>10</td>\n",
       "      <td>-1</td>\n",
       "      <td>33.58</td>\n",
       "      <td>5.0</td>\n",
       "      <td>11</td>\n",
       "    </tr>\n",
       "    <tr>\n",
       "      <th>3</th>\n",
       "      <td>1650000</td>\n",
       "      <td>2018-12-19</td>\n",
       "      <td>22:04:21</td>\n",
       "      <td>45.141191</td>\n",
       "      <td>38.992274</td>\n",
       "      <td>2843</td>\n",
       "      <td>2</td>\n",
       "      <td>6</td>\n",
       "      <td>7</td>\n",
       "      <td>1</td>\n",
       "      <td>40.00</td>\n",
       "      <td>10.0</td>\n",
       "      <td>1</td>\n",
       "    </tr>\n",
       "    <tr>\n",
       "      <th>4</th>\n",
       "      <td>6100000</td>\n",
       "      <td>2020-11-18</td>\n",
       "      <td>18:26:54</td>\n",
       "      <td>43.651925</td>\n",
       "      <td>39.652122</td>\n",
       "      <td>2843</td>\n",
       "      <td>2</td>\n",
       "      <td>6</td>\n",
       "      <td>13</td>\n",
       "      <td>2</td>\n",
       "      <td>47.60</td>\n",
       "      <td>10.0</td>\n",
       "      <td>11</td>\n",
       "    </tr>\n",
       "  </tbody>\n",
       "</table>\n",
       "</div>"
      ],
      "text/plain": [
       "      price        date      time    geo_lat    geo_lon  region  \\\n",
       "0  13719304  2020-06-02  21:21:22  55.869536  37.458076       3   \n",
       "1   1601000  2019-06-30  06:06:07  55.030393  83.015545    9654   \n",
       "2   1200000  2019-08-21  02:37:16  55.030393  83.015545    9654   \n",
       "3   1650000  2018-12-19  22:04:21  45.141191  38.992274    2843   \n",
       "4   6100000  2020-11-18  18:26:54  43.651925  39.652122    2843   \n",
       "\n",
       "   building_type  level  levels  rooms   area  kitchen_area  object_type  \n",
       "0              2      5      20      1  53.00          10.0           11  \n",
       "1              1      5      10      3  59.02           8.5           11  \n",
       "2              1      1      10     -1  33.58           5.0           11  \n",
       "3              2      6       7      1  40.00          10.0            1  \n",
       "4              2      6      13      2  47.60          10.0           11  "
      ]
     },
     "execution_count": 6,
     "metadata": {},
     "output_type": "execute_result"
    }
   ],
   "source": [
    "df = data.sample(frac = 0.001, random_state = 42).reset_index(drop = True)\n",
    "df.head()"
   ]
  },
  {
   "cell_type": "code",
   "execution_count": 7,
   "id": "100ed302",
   "metadata": {},
   "outputs": [
    {
     "data": {
      "text/plain": [
       "(5477, 13)"
      ]
     },
     "execution_count": 7,
     "metadata": {},
     "output_type": "execute_result"
    }
   ],
   "source": [
    "df.shape"
   ]
  },
  {
   "cell_type": "markdown",
   "id": "1ea0d3bc",
   "metadata": {},
   "source": [
    "### Альтернативные методы тестирования нормальности распределения площади для 1к и 2к квартир"
   ]
  },
  {
   "cell_type": "code",
   "execution_count": 47,
   "id": "0102c410",
   "metadata": {},
   "outputs": [],
   "source": [
    "df1k = df.loc[(df['rooms']==1)&(df['area']<100), 'area']\n",
    "df2k = df.loc[(df['rooms']==2)&(df['area']<100), 'area']"
   ]
  },
  {
   "cell_type": "code",
   "execution_count": 48,
   "id": "fa7461d2",
   "metadata": {},
   "outputs": [
    {
     "data": {
      "image/png": "[encoded data removed]",
      "text/plain": [
       "<Figure size 1500x500 with 2 Axes>"
      ]
     },
     "metadata": {},
     "output_type": "display_data"
    }
   ],
   "source": [
    "fig, ax  = plt.subplots(1,2, figsize = (15,5))\n",
    "plt.suptitle('Распределение площади 1к и 2к квартир')\n",
    "sns.histplot(df1k, kde = True, ax = ax[0])\n",
    "sns.histplot(df2k, kde = True, ax = ax[1])\n",
    "plt.show()"
   ]
  },
  {
   "cell_type": "code",
   "execution_count": 52,
   "id": "89e48ce6",
   "metadata": {},
   "outputs": [
    {
     "name": "stdout",
     "output_type": "stream",
     "text": [
      "Средняя:  38.236745098039215\n",
      "Медиана:  38.0\n",
      "Скошенность:  1.2216397378771051\n",
      "Эксцесс:  5.883696689641296\n"
     ]
    }
   ],
   "source": [
    "print('Средняя: ', df1k.mean())\n",
    "print('Медиана: ', df1k.median())\n",
    "print('Скошенность: ', stats.skew(df1k))\n",
    "print('Эксцесс: ', stats.kurtosis(df1k))"
   ]
  },
  {
   "cell_type": "code",
   "execution_count": 50,
   "id": "b6090ff6",
   "metadata": {},
   "outputs": [
    {
     "name": "stdout",
     "output_type": "stream",
     "text": [
      "Средняя:  55.01781198460693\n",
      "Медиана:  54.0\n",
      "Скошенность:  0.5012398627317909\n",
      "Эксцесс:  0.80787493359324\n"
     ]
    }
   ],
   "source": [
    "print('Средняя: ', df2k.mean())\n",
    "print('Медиана: ', df2k.median())\n",
    "print('Скошенность: ', stats.skew(df2k))\n",
    "print('Эксцесс: ', stats.kurtosis(df2k))"
   ]
  },
  {
   "cell_type": "code",
   "execution_count": 77,
   "id": "d48d1960",
   "metadata": {},
   "outputs": [
    {
     "data": {
      "image/png": "[encoded data removed]",
      "text/plain": [
       "<Figure size 1500x500 with 2 Axes>"
      ]
     },
     "metadata": {},
     "output_type": "display_data"
    }
   ],
   "source": [
    "fig, ax  = plt.subplots(1,2, figsize = (15,5))\n",
    "plt.title('QQ-plot для 1к и 2к квартир')\n",
    "stats.probplot(df1k[df1k<60], dist=\"norm\", plot = ax[0])\n",
    "stats.probplot(df2k, dist=\"norm\", plot = ax[1])\n",
    "plt.show()"
   ]
  },
  {
   "cell_type": "markdown",
   "id": "e150171e",
   "metadata": {},
   "source": [
    "### Тест Манна-Уитни о равенстве цен на 1к и 2к квартиры"
   ]
  },
  {
   "cell_type": "code",
   "execution_count": 79,
   "id": "e4ee0875",
   "metadata": {},
   "outputs": [],
   "source": [
    "df1k_price = df.loc[(df['rooms']==1)&(df['area']<100)&(df['price']<5000000), 'price']\n",
    "df2k_price = df.loc[(df['rooms']==2)&(df['area']<100)&(df['price']<5000000), 'price']"
   ]
  },
  {
   "cell_type": "code",
   "execution_count": 80,
   "id": "fab7b153",
   "metadata": {},
   "outputs": [
    {
     "data": {
      "text/plain": [
       "MannwhitneyuResult(statistic=np.float64(840965.5), pvalue=np.float64(1.068478842175426e-45))"
      ]
     },
     "execution_count": 80,
     "metadata": {},
     "output_type": "execute_result"
    }
   ],
   "source": [
    "stats.mannwhitneyu(df1k_price, df2k_price, alternative = 'two-sided')"
   ]
  },
  {
   "cell_type": "markdown",
   "id": "17318f1d",
   "metadata": {},
   "source": [
    "Поскольку р-значение существенно меньше 5%, нулевая гипотеза теста о том, что формы распределения цен на 1к квартиры и 2к квартиры совпадают (в т.ч., что совпадают их медианы), отвергается. Медианные цены на 1к и 2к квартиры не равны!"
   ]
  },
  {
   "cell_type": "markdown",
   "id": "3c1a5616",
   "metadata": {},
   "source": [
    "### Тест Уилкоксона о равенстве цен на 1к квартиры в 2019 и 2020 годах"
   ]
  },
  {
   "cell_type": "code",
   "execution_count": 104,
   "id": "3f480b81",
   "metadata": {},
   "outputs": [],
   "source": [
    "df['date'] = pd.to_datetime(df['date'])\n",
    "df1k_2019 = df.loc[(df['rooms']==1)&(df['date'].dt.year == 2019), 'price'].sample(100, random_state = 42)\n",
    "df1k_2020 = df.loc[(df['rooms']==1)&(df['date'].dt.year == 2020), 'price'].sample(100, random_state = 42)"
   ]
  },
  {
   "cell_type": "code",
   "execution_count": 105,
   "id": "d39c7409",
   "metadata": {},
   "outputs": [
    {
     "data": {
      "image/png": "[encoded data removed]",
      "text/plain": [
       "<Figure size 1500x500 with 2 Axes>"
      ]
     },
     "metadata": {},
     "output_type": "display_data"
    }
   ],
   "source": [
    "fig, ax  = plt.subplots(1,2, figsize = (15,5))\n",
    "plt.suptitle('Распределение цен 1к квартир в 2019 и 2020 годах')\n",
    "sns.histplot(df1k_2019, kde = True, ax = ax[0])\n",
    "sns.histplot(df1k_2020, kde = True, ax = ax[1])\n",
    "plt.show()"
   ]
  },
  {
   "cell_type": "code",
   "execution_count": 106,
   "id": "eb84b9a6",
   "metadata": {},
   "outputs": [
    {
     "name": "stdout",
     "output_type": "stream",
     "text": [
      "Средняя цена в 2019 2292107.46\n",
      "Средняя цена в 2020 3198781.65\n",
      "Медианная цена в 2019 2100000.0\n",
      "Медианная цена в 2020 2825000.0\n"
     ]
    }
   ],
   "source": [
    "print('Средняя цена в 2019', df1k_2019.mean())\n",
    "print('Средняя цена в 2020', df1k_2020.mean())\n",
    "print('Медианная цена в 2019', df1k_2019.median())\n",
    "print('Медианная цена в 2020', df1k_2020.median())"
   ]
  },
  {
   "cell_type": "code",
   "execution_count": 107,
   "id": "2c41b37e",
   "metadata": {},
   "outputs": [
    {
     "data": {
      "text/plain": [
       "WilcoxonResult(statistic=np.float64(1443.5), pvalue=np.float64(0.00020034046421775923))"
      ]
     },
     "execution_count": 107,
     "metadata": {},
     "output_type": "execute_result"
    }
   ],
   "source": [
    "stats.wilcoxon(df1k_2019.values, df1k_2020.values)"
   ]
  },
  {
   "cell_type": "markdown",
   "id": "ca8124d2",
   "metadata": {},
   "source": [
    "р-значение теста указывает, что между ценами 2019 и ценами 2020 года существует разница"
   ]
  },
  {
   "cell_type": "markdown",
   "id": "29a107d9",
   "metadata": {},
   "source": [
    "### Тест Пирсона (Хи-квадрат) о взаимосвязи материала дома и количества комнат"
   ]
  },
  {
   "cell_type": "code",
   "execution_count": 108,
   "id": "3dfd7194",
   "metadata": {},
   "outputs": [],
   "source": [
    "mat_dict = {0 : 'Other',  1 : 'Panel',  2 : 'Monolithic', 3 : 'Brick', 4 : 'Blocky', 5 :'Wooden'}\n",
    "rooms_dict = {-1: 'Studio', 1 : '1k', 2 : '2k', 3 : '3k'}\n",
    "df['rooms_adj'] = df['rooms'].map(rooms_dict).fillna('more')\n",
    "df['material'] = df['building_type'].map(mat_dict)"
   ]
  },
  {
   "cell_type": "code",
   "execution_count": 109,
   "id": "0943b626",
   "metadata": {},
   "outputs": [
    {
     "data": {
      "text/html": [
       "<div>\n",
       "<style scoped>\n",
       "    .dataframe tbody tr th:only-of-type {\n",
       "        vertical-align: middle;\n",
       "    }\n",
       "\n",
       "    .dataframe tbody tr th {\n",
       "        vertical-align: top;\n",
       "    }\n",
       "\n",
       "    .dataframe thead th {\n",
       "        text-align: right;\n",
       "    }\n",
       "</style>\n",
       "<table border=\"1\" class=\"dataframe\">\n",
       "  <thead>\n",
       "    <tr style=\"text-align: right;\">\n",
       "      <th>material</th>\n",
       "      <th>Blocky</th>\n",
       "      <th>Brick</th>\n",
       "      <th>Monolithic</th>\n",
       "      <th>Other</th>\n",
       "      <th>Panel</th>\n",
       "      <th>Wooden</th>\n",
       "    </tr>\n",
       "    <tr>\n",
       "      <th>rooms_adj</th>\n",
       "      <th></th>\n",
       "      <th></th>\n",
       "      <th></th>\n",
       "      <th></th>\n",
       "      <th></th>\n",
       "      <th></th>\n",
       "    </tr>\n",
       "  </thead>\n",
       "  <tbody>\n",
       "    <tr>\n",
       "      <th>1k</th>\n",
       "      <td>63</td>\n",
       "      <td>661</td>\n",
       "      <td>478</td>\n",
       "      <td>123</td>\n",
       "      <td>713</td>\n",
       "      <td>2</td>\n",
       "    </tr>\n",
       "    <tr>\n",
       "      <th>2k</th>\n",
       "      <td>54</td>\n",
       "      <td>661</td>\n",
       "      <td>372</td>\n",
       "      <td>105</td>\n",
       "      <td>632</td>\n",
       "      <td>4</td>\n",
       "    </tr>\n",
       "    <tr>\n",
       "      <th>3k</th>\n",
       "      <td>35</td>\n",
       "      <td>399</td>\n",
       "      <td>193</td>\n",
       "      <td>41</td>\n",
       "      <td>441</td>\n",
       "      <td>3</td>\n",
       "    </tr>\n",
       "    <tr>\n",
       "      <th>Studio</th>\n",
       "      <td>9</td>\n",
       "      <td>61</td>\n",
       "      <td>61</td>\n",
       "      <td>16</td>\n",
       "      <td>150</td>\n",
       "      <td>1</td>\n",
       "    </tr>\n",
       "    <tr>\n",
       "      <th>more</th>\n",
       "      <td>3</td>\n",
       "      <td>86</td>\n",
       "      <td>22</td>\n",
       "      <td>13</td>\n",
       "      <td>73</td>\n",
       "      <td>2</td>\n",
       "    </tr>\n",
       "  </tbody>\n",
       "</table>\n",
       "</div>"
      ],
      "text/plain": [
       "material   Blocky  Brick  Monolithic  Other  Panel  Wooden\n",
       "rooms_adj                                                 \n",
       "1k             63    661         478    123    713       2\n",
       "2k             54    661         372    105    632       4\n",
       "3k             35    399         193     41    441       3\n",
       "Studio          9     61          61     16    150       1\n",
       "more            3     86          22     13     73       2"
      ]
     },
     "execution_count": 109,
     "metadata": {},
     "output_type": "execute_result"
    }
   ],
   "source": [
    "df_heat = pd.crosstab(df['rooms_adj'], df['material'])\n",
    "df_heat"
   ]
  },
  {
   "cell_type": "code",
   "execution_count": 110,
   "id": "522eb7ee",
   "metadata": {},
   "outputs": [
    {
     "data": {
      "text/plain": [
       "Chi2ContingencyResult(statistic=np.float64(87.59452224600322), pvalue=np.float64(1.9464527880068707e-10), dof=20, expected_freq=array([[6.10845353e+01, 6.95767756e+02, 4.19397480e+02, 1.10995070e+02,\n",
       "        7.48285558e+02, 4.46960015e+00],\n",
       "       [5.47365346e+01, 6.23462479e+02, 3.75813036e+02, 9.94602885e+01,\n",
       "        6.70522549e+02, 4.00511229e+00],\n",
       "       [3.32970604e+01, 3.79261640e+02, 2.28612744e+02, 6.05031952e+01,\n",
       "        4.07888990e+02, 2.43637028e+00],\n",
       "       [8.92313310e+00, 1.01636662e+02, 6.12649261e+01, 1.62139858e+01,\n",
       "        1.09308381e+02, 6.52912178e-01],\n",
       "       [5.95873653e+00, 6.78714625e+01, 4.09118130e+01, 1.08274603e+01,\n",
       "        7.29945225e+01, 4.36005112e-01]]))"
      ]
     },
     "execution_count": 110,
     "metadata": {},
     "output_type": "execute_result"
    }
   ],
   "source": [
    "stats.chi2_contingency(df_heat)"
   ]
  },
  {
   "cell_type": "markdown",
   "id": "ca78b65c",
   "metadata": {},
   "source": [
    "У этого теста нулевая гипотеза говорит, что между двумя категориальными переменными зависимости нет.\n",
    "\n",
    "р-значение существенно ниже 5%, следовательно, данные противоречат нулевой гипотезе и мы можем ее отвергнуть.\n",
    "\n",
    "Между материалом дома и количеством комнат есть значимая зависимость"
   ]
  },
  {
   "cell_type": "markdown",
   "id": "7db63c45",
   "metadata": {},
   "source": [
    "### Коэффициенты корреляции Пирсона и Спирмана"
   ]
  },
  {
   "cell_type": "code",
   "execution_count": 114,
   "id": "908be93d",
   "metadata": {},
   "outputs": [
    {
     "data": {
      "text/plain": [
       "PearsonRResult(statistic=np.float64(0.6398590930356629), pvalue=np.float64(0.0))"
      ]
     },
     "execution_count": 114,
     "metadata": {},
     "output_type": "execute_result"
    }
   ],
   "source": [
    "stats.pearsonr(df['area'], df['rooms'])"
   ]
  },
  {
   "cell_type": "code",
   "execution_count": 111,
   "id": "cdf299b2",
   "metadata": {},
   "outputs": [
    {
     "data": {
      "text/plain": [
       "SignificanceResult(statistic=np.float64(0.8141971771479491), pvalue=np.float64(0.0))"
      ]
     },
     "execution_count": 111,
     "metadata": {},
     "output_type": "execute_result"
    }
   ],
   "source": [
    "stats.spearmanr(df['area'], df['rooms'])"
   ]
  },
  {
   "cell_type": "code",
   "execution_count": 113,
   "id": "5e912eb9",
   "metadata": {},
   "outputs": [
    {
     "data": {
      "text/plain": [
       "array([[1., 0.],\n",
       "       [0., 1.]])"
      ]
     },
     "execution_count": 113,
     "metadata": {},
     "output_type": "execute_result"
    }
   ],
   "source": [
    "x = np.array([-2,-1,0,1,2])\n",
    "y = x**2\n",
    "np.corrcoef(x,y)"
   ]
  },
  {
   "cell_type": "markdown",
   "id": "a5d34b6a",
   "metadata": {},
   "source": [
    "### Линейная регрессия цены на площадь квартиры"
   ]
  },
  {
   "cell_type": "code",
   "execution_count": 13,
   "id": "e86eb638",
   "metadata": {},
   "outputs": [
    {
     "name": "stdout",
     "output_type": "stream",
     "text": [
      "                            OLS Regression Results                            \n",
      "==============================================================================\n",
      "Dep. Variable:                      y   R-squared:                       0.013\n",
      "Model:                            OLS   Adj. R-squared:                  0.013\n",
      "Method:                 Least Squares   F-statistic:                     74.24\n",
      "Date:                Fri, 11 Oct 2024   Prob (F-statistic):           8.93e-18\n",
      "Time:                        19:29:13   Log-Likelihood:                -26244.\n",
      "No. Observations:                5477   AIC:                         5.249e+04\n",
      "Df Residuals:                    5475   BIC:                         5.250e+04\n",
      "Df Model:                           1                                         \n",
      "Covariance Type:            nonrobust                                         \n",
      "==============================================================================\n",
      "                 coef    std err          t      P>|t|      [0.025      0.975]\n",
      "------------------------------------------------------------------------------\n",
      "const         -3.1114      0.914     -3.404      0.001      -4.903      -1.320\n",
      "x1             0.1316      0.015      8.616      0.000       0.102       0.162\n",
      "==============================================================================\n",
      "Omnibus:                    19481.610   Durbin-Watson:                   1.992\n",
      "Prob(Omnibus):                  0.000   Jarque-Bera (JB):       5998483526.560\n",
      "Skew:                         -70.359   Prob(JB):                         0.00\n",
      "Kurtosis:                    5127.970   Cond. No.                         139.\n",
      "==============================================================================\n",
      "\n",
      "Notes:\n",
      "[1] Standard Errors assume that the covariance matrix of the errors is correctly specified.\n"
     ]
    }
   ],
   "source": [
    "X = np.array(df['area'])\n",
    "Y = np.array(df['price']/1000000)\n",
    "X = sm.add_constant(X)\n",
    "model = sm.OLS(Y, X)\n",
    "results = model.fit()\n",
    "print(results.summary()) "
   ]
  },
  {
   "cell_type": "code",
   "execution_count": 14,
   "id": "d984d6bf",
   "metadata": {},
   "outputs": [
    {
     "data": {
      "text/html": [
       "<div>\n",
       "<style scoped>\n",
       "    .dataframe tbody tr th:only-of-type {\n",
       "        vertical-align: middle;\n",
       "    }\n",
       "\n",
       "    .dataframe tbody tr th {\n",
       "        vertical-align: top;\n",
       "    }\n",
       "\n",
       "    .dataframe thead th {\n",
       "        text-align: right;\n",
       "    }\n",
       "</style>\n",
       "<table border=\"1\" class=\"dataframe\">\n",
       "  <thead>\n",
       "    <tr style=\"text-align: right;\">\n",
       "      <th></th>\n",
       "      <th>price</th>\n",
       "      <th>date</th>\n",
       "      <th>time</th>\n",
       "      <th>geo_lat</th>\n",
       "      <th>geo_lon</th>\n",
       "      <th>region</th>\n",
       "      <th>building_type</th>\n",
       "      <th>level</th>\n",
       "      <th>levels</th>\n",
       "      <th>rooms</th>\n",
       "      <th>area</th>\n",
       "      <th>kitchen_area</th>\n",
       "      <th>object_type</th>\n",
       "    </tr>\n",
       "  </thead>\n",
       "  <tbody>\n",
       "    <tr>\n",
       "      <th>0</th>\n",
       "      <td>13719304</td>\n",
       "      <td>2020-06-02</td>\n",
       "      <td>21:21:22</td>\n",
       "      <td>55.869536</td>\n",
       "      <td>37.458076</td>\n",
       "      <td>3</td>\n",
       "      <td>2</td>\n",
       "      <td>5</td>\n",
       "      <td>20</td>\n",
       "      <td>1</td>\n",
       "      <td>53.00</td>\n",
       "      <td>10.0</td>\n",
       "      <td>11</td>\n",
       "    </tr>\n",
       "    <tr>\n",
       "      <th>1</th>\n",
       "      <td>1601000</td>\n",
       "      <td>2019-06-30</td>\n",
       "      <td>06:06:07</td>\n",
       "      <td>55.030393</td>\n",
       "      <td>83.015545</td>\n",
       "      <td>9654</td>\n",
       "      <td>1</td>\n",
       "      <td>5</td>\n",
       "      <td>10</td>\n",
       "      <td>3</td>\n",
       "      <td>59.02</td>\n",
       "      <td>8.5</td>\n",
       "      <td>11</td>\n",
       "    </tr>\n",
       "    <tr>\n",
       "      <th>2</th>\n",
       "      <td>1200000</td>\n",
       "      <td>2019-08-21</td>\n",
       "      <td>02:37:16</td>\n",
       "      <td>55.030393</td>\n",
       "      <td>83.015545</td>\n",
       "      <td>9654</td>\n",
       "      <td>1</td>\n",
       "      <td>1</td>\n",
       "      <td>10</td>\n",
       "      <td>-1</td>\n",
       "      <td>33.58</td>\n",
       "      <td>5.0</td>\n",
       "      <td>11</td>\n",
       "    </tr>\n",
       "    <tr>\n",
       "      <th>3</th>\n",
       "      <td>1650000</td>\n",
       "      <td>2018-12-19</td>\n",
       "      <td>22:04:21</td>\n",
       "      <td>45.141191</td>\n",
       "      <td>38.992274</td>\n",
       "      <td>2843</td>\n",
       "      <td>2</td>\n",
       "      <td>6</td>\n",
       "      <td>7</td>\n",
       "      <td>1</td>\n",
       "      <td>40.00</td>\n",
       "      <td>10.0</td>\n",
       "      <td>1</td>\n",
       "    </tr>\n",
       "    <tr>\n",
       "      <th>4</th>\n",
       "      <td>6100000</td>\n",
       "      <td>2020-11-18</td>\n",
       "      <td>18:26:54</td>\n",
       "      <td>43.651925</td>\n",
       "      <td>39.652122</td>\n",
       "      <td>2843</td>\n",
       "      <td>2</td>\n",
       "      <td>6</td>\n",
       "      <td>13</td>\n",
       "      <td>2</td>\n",
       "      <td>47.60</td>\n",
       "      <td>10.0</td>\n",
       "      <td>11</td>\n",
       "    </tr>\n",
       "  </tbody>\n",
       "</table>\n",
       "</div>"
      ],
      "text/plain": [
       "      price        date      time    geo_lat    geo_lon  region  \\\n",
       "0  13719304  2020-06-02  21:21:22  55.869536  37.458076       3   \n",
       "1   1601000  2019-06-30  06:06:07  55.030393  83.015545    9654   \n",
       "2   1200000  2019-08-21  02:37:16  55.030393  83.015545    9654   \n",
       "3   1650000  2018-12-19  22:04:21  45.141191  38.992274    2843   \n",
       "4   6100000  2020-11-18  18:26:54  43.651925  39.652122    2843   \n",
       "\n",
       "   building_type  level  levels  rooms   area  kitchen_area  object_type  \n",
       "0              2      5      20      1  53.00          10.0           11  \n",
       "1              1      5      10      3  59.02           8.5           11  \n",
       "2              1      1      10     -1  33.58           5.0           11  \n",
       "3              2      6       7      1  40.00          10.0            1  \n",
       "4              2      6      13      2  47.60          10.0           11  "
      ]
     },
     "execution_count": 14,
     "metadata": {},
     "output_type": "execute_result"
    }
   ],
   "source": [
    "df.head()"
   ]
  },
  {
   "cell_type": "code",
   "execution_count": 17,
   "id": "0e1544dc",
   "metadata": {},
   "outputs": [
    {
     "name": "stdout",
     "output_type": "stream",
     "text": [
      "                            OLS Regression Results                            \n",
      "==============================================================================\n",
      "Dep. Variable:                      y   R-squared:                       0.016\n",
      "Model:                            OLS   Adj. R-squared:                  0.015\n",
      "Method:                 Least Squares   F-statistic:                     22.01\n",
      "Date:                Fri, 11 Oct 2024   Prob (F-statistic):           4.78e-18\n",
      "Time:                        19:44:19   Log-Likelihood:                -26237.\n",
      "No. Observations:                5477   AIC:                         5.248e+04\n",
      "Df Residuals:                    5472   BIC:                         5.252e+04\n",
      "Df Model:                           4                                         \n",
      "Covariance Type:            nonrobust                                         \n",
      "==============================================================================\n",
      "                 coef    std err          t      P>|t|      [0.025      0.975]\n",
      "------------------------------------------------------------------------------\n",
      "const         -3.4226      1.078     -3.174      0.002      -5.537      -1.308\n",
      "x1             0.1632      0.023      7.208      0.000       0.119       0.208\n",
      "x2             0.0801      0.081      0.992      0.321      -0.078       0.238\n",
      "x3            -1.5142      0.478     -3.171      0.002      -2.450      -0.578\n",
      "x4             0.0706      0.085      0.827      0.409      -0.097       0.238\n",
      "==============================================================================\n",
      "Omnibus:                    19502.391   Durbin-Watson:                   1.993\n",
      "Prob(Omnibus):                  0.000   Jarque-Bera (JB):       6046312346.714\n",
      "Skew:                         -70.585   Prob(JB):                         0.00\n",
      "Kurtosis:                    5148.364   Cond. No.                         168.\n",
      "==============================================================================\n",
      "\n",
      "Notes:\n",
      "[1] Standard Errors assume that the covariance matrix of the errors is correctly specified.\n"
     ]
    }
   ],
   "source": [
    "X = np.array(df[['area', 'level', 'rooms', 'kitchen_area']])\n",
    "Y = np.array(df['price']/1000000)\n",
    "X = sm.add_constant(X)\n",
    "model = sm.OLS(Y, X)\n",
    "results = model.fit()\n",
    "print(results.summary()) "
   ]
  },
  {
   "cell_type": "markdown",
   "id": "137a12c6",
   "metadata": {},
   "source": [
    "$Price_i = -3.42 + 0.16\\cdot area_i + 0.08 \\cdot level_i - 1.51 \\cdot rooms_i + 0.07 \\cdot kitchen_i $"
   ]
  },
  {
   "cell_type": "markdown",
   "id": "524a04aa",
   "metadata": {},
   "source": [
    "Влияние этажа и площади кухни на цену статистически не подтверждены, т.е. они не отличаются от нуля"
   ]
  },
  {
   "cell_type": "code",
   "execution_count": 18,
   "id": "ac07a563",
   "metadata": {},
   "outputs": [
    {
     "name": "stdout",
     "output_type": "stream",
     "text": [
      "                            OLS Regression Results                            \n",
      "==============================================================================\n",
      "Dep. Variable:                      y   R-squared:                       0.015\n",
      "Model:                            OLS   Adj. R-squared:                  0.015\n",
      "Method:                 Least Squares   F-statistic:                     43.04\n",
      "Date:                Fri, 11 Oct 2024   Prob (F-statistic):           2.84e-19\n",
      "Time:                        19:47:27   Log-Likelihood:                -26238.\n",
      "No. Observations:                5477   AIC:                         5.248e+04\n",
      "Df Residuals:                    5474   BIC:                         5.250e+04\n",
      "Df Model:                           2                                         \n",
      "Covariance Type:            nonrobust                                         \n",
      "==============================================================================\n",
      "                 coef    std err          t      P>|t|      [0.025      0.975]\n",
      "------------------------------------------------------------------------------\n",
      "const         -2.6412      0.923     -2.860      0.004      -4.451      -0.831\n",
      "x1             0.1751      0.020      8.816      0.000       0.136       0.214\n",
      "x2            -1.6147      0.472     -3.420      0.001      -2.540      -0.689\n",
      "==============================================================================\n",
      "Omnibus:                    19498.663   Durbin-Watson:                   1.993\n",
      "Prob(Omnibus):                  0.000   Jarque-Bera (JB):       6036632034.412\n",
      "Skew:                         -70.544   Prob(JB):                         0.00\n",
      "Kurtosis:                    5144.243   Cond. No.                         141.\n",
      "==============================================================================\n",
      "\n",
      "Notes:\n",
      "[1] Standard Errors assume that the covariance matrix of the errors is correctly specified.\n"
     ]
    }
   ],
   "source": [
    "X = np.array(df[['area', 'rooms']])\n",
    "Y = np.array(df['price']/1000000)\n",
    "X = sm.add_constant(X)\n",
    "model = sm.OLS(Y, X)\n",
    "results = model.fit()\n",
    "print(results.summary()) "
   ]
  }
 ],
 "metadata": {
  "kernelspec": {
   "display_name": "Python 3 (ipykernel)",
   "language": "python",
   "name": "python3"
  },
  "language_info": {
   "codemirror_mode": {
    "name": "ipython",
    "version": 3
   },
   "file_extension": ".py",
   "mimetype": "text/x-python",
   "name": "python",
   "nbconvert_exporter": "python",
   "pygments_lexer": "ipython3",
   "version": "3.11.5"
  }
 },
 "nbformat": 4,
 "nbformat_minor": 5
}
