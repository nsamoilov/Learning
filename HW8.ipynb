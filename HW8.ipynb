{
 "cells": [
  {
   "cell_type": "code",
   "execution_count": 18,
   "id": "bbb32b7b-592e-48c7-badf-f54067b2eea9",
   "metadata": {},
   "outputs": [],
   "source": [
    "import pandas as pd\n",
    "from scipy.stats import chi2_contingency, ttest_ind\n",
    "import statsmodels.api as sm\n",
    "from statsmodels.stats.proportion import proportions_ztest\n",
    "\n",
    "# Загрузка данных\n",
    "file_path = r\"C:\\Users\\SWS-M\\Downloads\\marketing_AB\\marketing_AB.csv\" #Датасет большой для чтения с гита, пришлось с компухтера читать\n",
    "data = pd.read_csv(file_path)\n",
    "\n",
    "# Очистка данных: удаляем ненужные колонки\n",
    "data_cleaned = data.drop(columns=['Unnamed: 0'], errors='ignore')"
   ]
  },
  {
   "cell_type": "code",
   "execution_count": 19,
   "id": "da7b00b6-d712-407b-9fc1-23804e918957",
   "metadata": {},
   "outputs": [
    {
     "name": "stdout",
     "output_type": "stream",
     "text": [
      "Optimization terminated successfully.\n",
      "         Current function value: 0.108329\n",
      "         Iterations 8\n",
      "\n",
      "Logistic regression summary:\n",
      "                           Logit Regression Results                           \n",
      "==============================================================================\n",
      "Dep. Variable:              converted   No. Observations:               588101\n",
      "Model:                          Logit   Df Residuals:                   588091\n",
      "Method:                           MLE   Df Model:                            9\n",
      "Date:                Mon, 25 Nov 2024   Pseudo R-squ.:                 0.08025\n",
      "Time:                        21:32:37   Log-Likelihood:                -63708.\n",
      "converged:                       True   LL-Null:                       -69267.\n",
      "Covariance Type:            nonrobust   LLR p-value:                     0.000\n",
      "==========================================================================================\n",
      "                             coef    std err          z      P>|z|      [0.025      0.975]\n",
      "------------------------------------------------------------------------------------------\n",
      "const                     -4.7613      0.038   -126.622      0.000      -4.835      -4.688\n",
      "total ads                  0.0103   9.92e-05    103.492      0.000       0.010       0.010\n",
      "most ads hour              0.0337      0.002     18.340      0.000       0.030       0.037\n",
      "test group_psa            -0.3779      0.052     -7.330      0.000      -0.479      -0.277\n",
      "most ads day_Monday        0.4725      0.031     15.408      0.000       0.412       0.533\n",
      "most ads day_Saturday      0.0220      0.034      0.640      0.522      -0.045       0.089\n",
      "most ads day_Sunday        0.2174      0.033      6.667      0.000       0.153       0.281\n",
      "most ads day_Thursday      0.0679      0.034      1.996      0.046       0.001       0.135\n",
      "most ads day_Tuesday       0.4438      0.032     13.879      0.000       0.381       0.506\n",
      "most ads day_Wednesday     0.2087      0.033      6.301      0.000       0.144       0.274\n",
      "==========================================================================================\n"
     ]
    }
   ],
   "source": [
    "# Преобразуем категориальные переменные в дамми-переменные\n",
    "categorical_cols = ['test group', 'most ads day']\n",
    "data_cleaned = pd.get_dummies(data_cleaned, columns=categorical_cols, drop_first=True)\n",
    "\n",
    "# Преобразуем все булевы переменные в числовые\n",
    "for col in data_cleaned.select_dtypes(include='bool').columns:\n",
    "    data_cleaned[col] = data_cleaned[col].astype(int)\n",
    "\n",
    "# Проверим на пропущенные значения и заполним их средними значениями\n",
    "if data_cleaned.isnull().any().any():\n",
    "    data_cleaned = data_cleaned.fillna(data_cleaned.mean())\n",
    "\n",
    "# Подготовка данных для логистической регрессии\n",
    "X = data_cleaned.drop(columns=['converted', 'user id'])\n",
    "y = data_cleaned['converted'].astype(int)\n",
    "\n",
    "# Проверка типов данных\n",
    "# print(\"Типы данных X:\")\n",
    "# print(X.dtypes)\n",
    "# print(\"\\nУникальные значения y:\")\n",
    "# print(y.unique())\n",
    "\n",
    "# Логистическая регрессия\n",
    "logit_model = sm.Logit(y, sm.add_constant(X)).fit()\n",
    "print(\"\\nLogistic regression summary:\")\n",
    "print(logit_model.summary())"
   ]
  },
  {
   "cell_type": "markdown",
   "id": "abf3a5ec-b080-40e0-b1aa-831da38ce313",
   "metadata": {},
   "source": [
    "### 1. Какой тип рекламы был успешнее?\n",
    "В модели есть переменная test group_psa, которая указывает, принадлежит ли пользователь к группе с социальной рекламой (PSA) или нет.\n",
    "\n",
    "Коэффициент для test group_psa: -0.3779\n",
    "\n",
    "Этот коэффициент отрицательный, что указывает на то, что пользователи, видевшие социальную рекламу (PSA), с меньшей вероятностью конвертировались по сравнению с пользователями в контрольной группе.\n",
    "\n",
    "P-значение: 0.000\n",
    "\n",
    "Значение меньше стандартного уровня значимости (0.05), что подтверждает статистическую значимость результата.\n",
    "Вывод: Традиционная реклама была успешнее социальной рекламы."
   ]
  },
  {
   "cell_type": "markdown",
   "id": "ff4f8c40-f3e3-4874-82fd-070a459b104b",
   "metadata": {},
   "source": [
    "### 2. Дополнительные переменные и гетерогенные эффекты\n",
    "Включение других переменных (например, время показа рекламы, день недели) позволяет понять, как различные факторы влияют на вероятность конверсии.\n",
    "\n",
    "Ключевые результаты:\n",
    "\n",
    "total ads: 0.0103 (p-value < 0.05):\n",
    "\n",
    "Чем больше рекламы видит пользователь, тем выше вероятность конверсии. Это логично, поскольку увеличение экспозиции приводит к росту вовлеченности.\n",
    "\n",
    "most ads hour: 0.0337 (p-value < 0.05):\n",
    "\n",
    "Часы с максимальным числом показов положительно влияют на вероятность конверсии. Вероятно, определенные часы суток более удачны для показа рекламы.\n",
    "День недели:\n",
    "\n",
    "Monday: Положительный эффект (0.4725), статистически значимый (p-value < 0.05).\n",
    "\n",
    "Tuesday: Сильный положительный эффект (0.4438), значимый.\n",
    "\n",
    "Sunday: Умеренный положительный эффект (0.2174), значимый.\n",
    "\n",
    "Thursday: Положительный эффект (0.0679), на грани значимости (p-value = 0.046).\n",
    "\n",
    "Saturday: Эффект незначимый (p-value = 0.522).\n",
    "\n",
    "Вывод: Дни недели оказывают влияние на конверсию. Наиболее успешные дни — понедельник и вторник."
   ]
  },
  {
   "cell_type": "markdown",
   "id": "820d5a14-1661-45e9-9f86-2332d463dd0b",
   "metadata": {},
   "source": [
    "### 3. Выводы об эффективности с подтверждением статистическими тестами\n",
    "\n",
    "- Проверка гипотезы о влиянии типа рекламы:\n",
    "\n",
    "Для переменной test group_psa p-value < 0.05. Мы отвергаем нулевую гипотезу о равной эффективности социальной и традиционной рекламы. Традиционная реклама эффективнее.\n",
    "\n",
    "- Проверка влияния дня недели:\n",
    "\n",
    "Коэффициенты для большинства дней недели (кроме субботы) статистически значимы, что подтверждает их влияние на конверсии. Это стоит учитывать при планировании показа рекламы."
   ]
  },
  {
   "cell_type": "code",
   "execution_count": null,
   "id": "11e8a7c0-2b92-440d-a3b6-09b6ae18ea85",
   "metadata": {},
   "outputs": [],
   "source": []
  }
 ],
 "metadata": {
  "kernelspec": {
   "display_name": "Python 3 (ipykernel)",
   "language": "python",
   "name": "python3"
  },
  "language_info": {
   "codemirror_mode": {
    "name": "ipython",
    "version": 3
   },
   "file_extension": ".py",
   "mimetype": "text/x-python",
   "name": "python",
   "nbconvert_exporter": "python",
   "pygments_lexer": "ipython3",
   "version": "3.12.6"
  }
 },
 "nbformat": 4,
 "nbformat_minor": 5
}
