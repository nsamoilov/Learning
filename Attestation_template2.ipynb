{
 "cells": [
  {
   "cell_type": "markdown",
   "id": "a47bf79c-cbcc-4eb9-8eef-19a1f1e8a150",
   "metadata": {},
   "source": [
    "### Подготовка к выполнению задачи"
   ]
  },
  {
   "cell_type": "code",
   "execution_count": 52,
   "id": "c0d492d4-bc6c-4dad-ab5c-5a1936a8f782",
   "metadata": {},
   "outputs": [
    {
     "name": "stdout",
     "output_type": "stream",
     "text": [
      "Проверка данных на пропуски:\n",
      "wagew     0\n",
      "educw     0\n",
      "agew      0\n",
      "child6    0\n",
      "dtype: int64\n",
      "   wagew  educw  agew  child6\n",
      "0   2.65     12    32       0\n",
      "1   2.65     12    30       0\n",
      "2   4.04     12    35       0\n",
      "3   3.25     12    34       0\n",
      "4   3.60     14    31       0\n"
     ]
    }
   ],
   "source": [
    "# Импорты \n",
    "import pandas as pd\n",
    "import numpy as np\n",
    "from sklearn.model_selection import train_test_split, GridSearchCV\n",
    "from sklearn.preprocessing import StandardScaler, PolynomialFeatures, FunctionTransformer\n",
    "from sklearn.linear_model import LinearRegression\n",
    "from sklearn.tree import DecisionTreeRegressor\n",
    "from sklearn.ensemble import GradientBoostingRegressor\n",
    "from sklearn.metrics import mean_absolute_error, mean_squared_error\n",
    "import statsmodels.api as sm\n",
    "import matplotlib.pyplot as plt\n",
    "\n",
    "# Загрузка данных\n",
    "item = 'Mroz'                                                                                         # Указываем название набора данных\n",
    "package = 'Ecdat'                                                                                     # Указываем пакет с данным набором\n",
    "df = sm.datasets.get_rdataset(item, package, cache=True).data                                         # Загружаем данные из statsmodels\n",
    "\n",
    "# Очистка данных\n",
    "df = df[['wagew', 'educw', 'agew', 'child6']].dropna()                                                # Отбираем только нужные колонки и удаляем строки с пропусками\n",
    "df['child6'] = df['child6'].apply(lambda x: 1 if x == 'yes' else 0)                                   # Преобразуем 'yes' в 1 и 'no' в 0 для переменной child6\n",
    "\n",
    "# Проверка данных на пропуски\n",
    "print(\"Проверка данных на пропуски:\")\n",
    "print(df.isnull().sum())                                                                              # Проверка на пропуски в данных\n",
    "print(df.head())                                                                                      # Выводим первые 5 строк данных для проверки"
   ]
  },
  {
   "cell_type": "markdown",
   "id": "faebbdfe-bc7c-420e-9f4e-a49bed0a6aa1",
   "metadata": {},
   "source": [
    "### Пункт 2: Формулировка задачи\n",
    "Задача:\n",
    "\n",
    "Предсказать почасовую зарплату жены (wagew) в зависимости от:\n",
    "- Уровня образования (educw),\n",
    "- Возраста (agew),\n",
    "- Наличия детей младше 6 лет (child6).\n",
    "\n",
    "Обоснование:\n",
    "Эти переменные имеют потенциально значимое влияние на заработок, и результаты анализа могут быть использованы для различных программ."
   ]
  },
  {
   "cell_type": "markdown",
   "id": "84211e8b-c35e-4e78-ab16-690e34410c96",
   "metadata": {},
   "source": [
    "### Пункт 3: Разделение данных"
   ]
  },
  {
   "cell_type": "code",
   "execution_count": 58,
   "id": "fdc47484-affe-4dab-8db6-4b26803197e1",
   "metadata": {},
   "outputs": [
    {
     "name": "stdout",
     "output_type": "stream",
     "text": [
      "Обучающая выборка: (451, 3)\n",
      "Тестовая выборка (оценка): (151, 3)\n",
      "Тестовая выборка (прогноз): (151, 3)\n"
     ]
    }
   ],
   "source": [
    "# Разделяем датасет на признаки (X) и целевую переменную (y)\n",
    "\n",
    "# Разделение данных на обучающие и тестовые\n",
    "X = df[['educw', 'agew', 'child6']]                                                              # Признаки (образование, возраст и наличие детей)\n",
    "y = df['wagew']                                                                                  # Целевая переменная (зарплата)\n",
    "\n",
    "# Разделяем данные на обучающую выборку (60%) и тестовую выборку (40%)\n",
    "X_train, X_test, y_train, y_test = train_test_split(X, y, test_size=0.4, random_state=42)\n",
    "\n",
    "# Тестовую выборку делим на две части по 20% каждая\n",
    "X_val, X_predict, y_val, y_predict = train_test_split(X_test, y_test, test_size=0.5, random_state=42)\n",
    "\n",
    "# Проверяем размеры выборок\n",
    "print(\"Обучающая выборка:\", X_train.shape)\n",
    "print(\"Тестовая выборка (оценка):\", X_val.shape)\n",
    "print(\"Тестовая выборка (прогноз):\", X_predict.shape)\n"
   ]
  },
  {
   "cell_type": "markdown",
   "id": "f045a1e0-04b1-4a09-beca-e1f9f75e0e9e",
   "metadata": {},
   "source": [
    "### Пункт 4: Обучение моделей"
   ]
  },
  {
   "cell_type": "code",
   "execution_count": 59,
   "id": "dfb67ed4-ff6c-4958-b297-6fe08fac1070",
   "metadata": {
    "scrolled": true
   },
   "outputs": [],
   "source": [
    "# Нормализация данных\n",
    "scaler = StandardScaler()                                                                                  # Создаем объект для нормализации\n",
    "X_train_scaled = scaler.fit_transform(X_train)                                                             # Нормализуем обучающие данные\n",
    "X_val_scaled = scaler.transform(X_val)                                                                     # Нормализуем валидационные данные\n",
    "X_predict_scaled = scaler.transform(X_predict)                                                             # Нормализуем данные для прогнозирования\n",
    "\n",
    "# Дополнительные трансформации\n",
    "# Полиномиальные признаки до 3-й степени\n",
    "poly = PolynomialFeatures(degree=3, include_bias=False)                                                    # Степень полинома 3\n",
    "X_train_poly = poly.fit_transform(X_train_scaled)                                                          # Преобразуем обучающие данные в полиномиальные\n",
    "X_val_poly = poly.transform(X_val_scaled)                                                                  # Преобразуем валидационные данные\n",
    "X_predict_poly = poly.transform(X_predict_scaled)                                                          # Преобразуем данные для прогнозирования\n",
    "\n",
    "# Логарифмическая трансформация целевой переменной (для стабилизации дисперсии и улучшения модели)\n",
    "log_transformer = FunctionTransformer(np.log1p, validate=True)                                             # Логарифмическая трансформация\n",
    "y_train_log = log_transformer.fit_transform(y_train.values.reshape(-1, 1)).flatten()                       # Преобразуем обучающие данные\n",
    "y_val_log = log_transformer.transform(y_val.values.reshape(-1, 1)).flatten()                               # Преобразуем валидационные данные\n",
    "\n",
    "# Обучение моделей\n",
    "models = {\n",
    "    \"Linear Regression\": LinearRegression(),                                                               # Линейная регрессия\n",
    "    \"Decision Tree\": DecisionTreeRegressor(random_state=42),                                               # Дерево решений\n",
    "    \"Gradient Boosting\": GradientBoostingRegressor(random_state=42)                                        # Градиентный бустинг\n",
    "}\n",
    "\n",
    "# Параметры для поиска гиперпараметров для каждой модели\n",
    "param_grid_tree = {'max_depth': [3, 5, 10], 'min_samples_split': [2, 5, 10]}                               # Для дерева решений\n",
    "param_grid_gb = {'n_estimators': [100, 500, 1000], 'learning_rate': [0.01, 0.05, 0.1]}                     # Для градиентного бустинга\n",
    "\n",
    "# Используем GridSearchCV для поиска оптимальных гиперпараметров\n",
    "tree_cv = GridSearchCV(DecisionTreeRegressor(random_state=42), param_grid_tree, cv=3, scoring='neg_mean_squared_error')\n",
    "gb_cv = GridSearchCV(GradientBoostingRegressor(random_state=42), param_grid_gb, cv=3, scoring='neg_mean_squared_error')"
   ]
  },
  {
   "cell_type": "markdown",
   "id": "5575e27a-acf8-453b-acba-3a238298b232",
   "metadata": {},
   "source": [
    "### Пункт 5: Выбор лучшей модели"
   ]
  },
  {
   "cell_type": "code",
   "execution_count": 60,
   "id": "e920d48d-3e89-418c-b0ca-bb0a2fd411cf",
   "metadata": {},
   "outputs": [
    {
     "name": "stdout",
     "output_type": "stream",
     "text": [
      "Результаты моделей:\n",
      "Linear Regression: MAE=1.93, MSE=6.21\n",
      "Decision Tree: MAE=1.85, MSE=5.86\n",
      "Gradient Boosting: MAE=1.93, MSE=6.21\n"
     ]
    }
   ],
   "source": [
    "results = {}\n",
    "for name, model in models.items():\n",
    "    if name == \"Decision Tree\":\n",
    "        model = tree_cv.fit(X_train_poly, y_train_log)                                          # Для дерева ищем оптимальные параметры\n",
    "    elif name == \"Gradient Boosting\":\n",
    "        model = gb_cv.fit(X_train_poly, y_train_log)                                            # Для градиентного бустинга ищем оптимальные параметры\n",
    "    else:\n",
    "        model.fit(X_train_poly, y_train_log)                                                    # Для линейной регрессии обучаем модель\n",
    "    \n",
    "    y_pred_log = model.predict(X_val_poly)                                                      # Предсказание на валидационных данных\n",
    "    y_pred = np.expm1(y_pred_log)                                                               # Обратная логарифмическая трансформация для восстановления исходных значений\n",
    "    mae = mean_absolute_error(y_val, y_pred)                                                    # Вычисляем MAE\n",
    "    mse = mean_squared_error(y_val, y_pred)                                                     # Вычисляем MSE\n",
    "    results[name] = {\"MAE\": mae, \"MSE\": mse, \"Model\": model}                                    # Сохраняем результаты\n",
    "\n",
    "# Вывод результатов\n",
    "print(\"Результаты моделей:\")\n",
    "for name, metrics in results.items():\n",
    "    print(f\"{name}: MAE={metrics['MAE']:.2f}, MSE={metrics['MSE']:.2f}\")                        # Выводим ошибки для каждой модели"
   ]
  },
  {
   "cell_type": "markdown",
   "id": "aad820df-2592-45b6-8699-ec703c5686f0",
   "metadata": {},
   "source": [
    "На данном этапе мы сравнили три модели. Модель с наименьшими ошибками MAE и MSE показывает лучшее качество. В нашем случае модель Decision Tree"
   ]
  },
  {
   "cell_type": "markdown",
   "id": "7df6a19e-64cf-462b-9783-ef353b96463d",
   "metadata": {},
   "source": [
    "### Визуализация результатов"
   ]
  },
  {
   "cell_type": "code",
   "execution_count": 61,
   "id": "df521dd4-b8d6-4678-89c3-3d619a2c6606",
   "metadata": {},
   "outputs": [
    {
     "data": {
      "image/png": "[encoded data removed]",
      "text/plain": [
       "<Figure size 1000x500 with 1 Axes>"
      ]
     },
     "metadata": {},
     "output_type": "display_data"
    }
   ],
   "source": [
    "# Визуализация результатов\n",
    "names = list(results.keys())                                                                       # Имена моделей\n",
    "mae_values = [metrics['MAE'] for metrics in results.values()]                                      # Значения MAE\n",
    "mse_values = [metrics['MSE'] for metrics in results.values()]                                      # Значения MSE\n",
    "\n",
    "plt.figure(figsize=(10, 5))                                                                        # Создаем график\n",
    "plt.bar(names, mae_values, alpha=0.7, label='MAE')                                                 # Столбцы для MAE\n",
    "plt.bar(names, mse_values, alpha=0.7, label='MSE', bottom=mae_values)                              # Столбцы для MSE, начиная с MAE\n",
    "plt.title(\"Сравнение моделей\")                                                                     # Заголовок\n",
    "plt.ylabel(\"Ошибка\")                                                                               # Подпись оси Y\n",
    "plt.legend()                                                                                       # Легенда\n",
    "plt.show()"
   ]
  },
  {
   "cell_type": "markdown",
   "id": "c7533e5b-fe9e-4b1f-a567-5e9f5ef47006",
   "metadata": {},
   "source": [
    "###  Прогнозирование на новых данных"
   ]
  },
  {
   "cell_type": "code",
   "execution_count": 62,
   "id": "8eef6da9-19f5-4a7d-b909-353ad26af3c0",
   "metadata": {},
   "outputs": [
    {
     "name": "stdout",
     "output_type": "stream",
     "text": [
      "Лучшая модель: Decision Tree\n",
      "Предсказания:\n",
      "     Actual  Predicted\n",
      "41     3.50   0.375371\n",
      "589    0.00   1.138458\n",
      "715    0.00   0.870324\n",
      "340    1.50   3.578373\n",
      "148    9.98   1.138458\n"
     ]
    }
   ],
   "source": [
    "best_model_name = min(results, key=lambda x: results[x]['MSE'])                                    # Выбираем модель с минимальной MSE\n",
    "best_model = results[best_model_name]['Model']                                                     # Получаем лучшую модель\n",
    "print(f\"Лучшая модель: {best_model_name}\")\n",
    "\n",
    "final_predictions_log = best_model.predict(X_predict_poly)                                         # Прогноз на тестовых данных\n",
    "final_predictions = np.expm1(final_predictions_log)                                                # Обратная логарифмическая трансформация\n",
    "predictions_df = pd.DataFrame({\"Actual\": y_predict, \"Predicted\": final_predictions})               # Формируем DataFrame с реальными и предсказанными значениями\n",
    "print(\"Предсказания:\")\n",
    "print(predictions_df.head())                                                                       # Выводим первые строки с предсказаниями"
   ]
  },
  {
   "cell_type": "markdown",
   "id": "4fb88f0f-78b8-4329-a115-f59f4d1e2bff",
   "metadata": {},
   "source": [
    "### Выводы"
   ]
  },
  {
   "cell_type": "markdown",
   "id": "164565f9-bd3c-4d4d-bd3b-bf54afb0ea67",
   "metadata": {},
   "source": [
    "Прогнозы для некоторых примеров значительно отличаются от реальных значений (например, для 3.50 модель предсказывает 0.37, для 9.98 — 1.14). Это говорит о том, что модель плохо аппроксимирует данные и делает сильные ошибки на прогнозах."
   ]
  },
  {
   "cell_type": "markdown",
   "id": "9a38273b-edb0-465c-ae66-0dda75861b5f",
   "metadata": {},
   "source": [
    "Причин может быть много, к примеру сама модель дерева решений может переобучаться на данных или для этой задачи логарифм не является оптимальной трансформацией, ну или данные не имеют явно выраженных нелинейных зависимостей."
   ]
  },
  {
   "cell_type": "markdown",
   "id": "0647b4e3-da15-491d-8d3a-21748cb0a485",
   "metadata": {},
   "source": [
    "### Но мне кажется, что причина именно в выборе переменных\n",
    "\n",
    "Я использую всего 3 независимых переменных: educw, agew и child6. Эти переменные могут быть недостаточно информативными для предсказания заработной платы, и возможно, стоит использовать дополнительные признаки, такие как опыт работы, демографические или социально-экономические факторы, если они есть."
   ]
  },
  {
   "cell_type": "markdown",
   "id": "ffb7e10b-f8dd-43d3-ae65-c8c6048fd9db",
   "metadata": {},
   "source": [
    "Я пробовал использовать XGBoost, LightGBM, SVR, но результат не сильно впечатляет и близок к текущему (я и модели менял, Random Forest был забавным)"
   ]
  },
  {
   "cell_type": "markdown",
   "id": "73f5225d-5030-4bdb-b471-659b292951ba",
   "metadata": {},
   "source": [
    "Несколько дней эти ресурсы изучал:\n",
    "\n",
    "- https://www.rasgoml.com/feature-engineering-tutorials/how-to-do-robust-scaler-normalization-with-pandas-and-scikit-learn\n",
    "- https://proclusacademy.com/blog/robust-scaler-outliers/\n",
    "\n",
    "И stackoverflow "
   ]
  },
  {
   "cell_type": "markdown",
   "id": "48877bc2-ab7c-47b2-ab75-60d35590d75f",
   "metadata": {},
   "source": [
    "Нужно было самому всё попробовать"
   ]
  },
  {
   "cell_type": "code",
   "execution_count": 82,
   "id": "0e957b7f-0df8-460b-8fd0-0597e41dfa02",
   "metadata": {},
   "outputs": [
    {
     "name": "stdout",
     "output_type": "stream",
     "text": [
      "MAE для Gradient Boosting: 7.17, MSE: 56.39\n",
      "MAE для Quantile Regression: 7.12, MSE: 107.94\n",
      "Лучшая модель после доработки: Gradient Boosting (RandomizedSearch)\n",
      "Предсказания:\n",
      "     Actual  Predicted Gradient Boosting  Predicted Quantile Regression\n",
      "41     3.50                   -11.913249                     -13.815511\n",
      "589    0.00                    -8.139255                     -13.815511\n",
      "715    0.00                    -5.545121                     -13.815511\n",
      "340    1.50                    -2.257994                     -13.815511\n",
      "148    9.98                    -9.034679                     -13.815511\n"
     ]
    },
    {
     "data": {
      "image/png": "[encoded data removed]",
      "text/plain": [
       "<Figure size 1000x500 with 1 Axes>"
      ]
     },
     "metadata": {},
     "output_type": "display_data"
    },
    {
     "name": "stdout",
     "output_type": "stream",
     "text": [
      "Предсказания после обратного преобразования:\n",
      "     Actual  Predicted Gradient Boosting  Predicted Quantile Regression\n",
      "41     3.50                     0.000008                   4.235165e-22\n",
      "589    0.00                     0.003707                   4.235165e-22\n",
      "715    0.00                     0.001863                   4.235165e-22\n",
      "340    1.50                     0.001044                   4.235165e-22\n",
      "148    9.98                     0.000113                   4.235165e-22\n"
     ]
    }
   ],
   "source": [
    "from sklearn.model_selection import RandomizedSearchCV\n",
    "from sklearn.preprocessing import RobustScaler\n",
    "from sklearn.metrics import mean_absolute_error, mean_squared_error\n",
    "from sklearn.linear_model import QuantileRegressor\n",
    "import matplotlib.pyplot as plt\n",
    "import numpy as np\n",
    "\n",
    "# Дополнительная обработка данных\n",
    "# Используем RobustScaler для улучшения работы модели с выбросами\n",
    "scaler_robust = RobustScaler()\n",
    "X_train_scaled_robust = scaler_robust.fit_transform(X_train)\n",
    "X_val_scaled_robust = scaler_robust.transform(X_val)\n",
    "X_predict_scaled_robust = scaler_robust.transform(X_predict)\n",
    "\n",
    "# Преобразование целевой переменной с добавлением константы ---\n",
    "epsilon = 1e-6  # Небольшая константа для корректного логарифмирования\n",
    "y_train_log = np.log(y_train + epsilon)\n",
    "y_val_log = np.log(y_val + epsilon)\n",
    "y_predict_log = np.log(y_predict + epsilon)\n",
    "\n",
    "# Более тщательный подбор гиперпараметров\n",
    "param_dist_gb = {\n",
    "    'n_estimators': [100, 200, 300, 400, 500],\n",
    "    'learning_rate': [0.01, 0.05, 0.1, 0.2, 0.3],\n",
    "    'max_depth': [3, 4, 5, 6, 7],\n",
    "    'subsample': [0.8, 0.9, 1.0],\n",
    "    'min_samples_split': [2, 5, 10],\n",
    "    'min_samples_leaf': [1, 2, 4]\n",
    "}\n",
    "\n",
    "# Применяем RandomizedSearchCV для Gradient Boosting\n",
    "gb_random_search = RandomizedSearchCV(gb_model, param_distributions=param_dist_gb, n_iter=50, cv=3, random_state=42, scoring='neg_mean_squared_error')\n",
    "gb_random_search.fit(X_train_scaled_robust, y_train_log)\n",
    "\n",
    "# Оценка модели с новым подбором гиперпараметров\n",
    "y_pred_gb_random = gb_random_search.predict(X_val_scaled_robust)\n",
    "mae_gb_random = mean_absolute_error(y_val_log, y_pred_gb_random)\n",
    "mse_gb_random = mean_squared_error(y_val_log, y_pred_gb_random)\n",
    "results['Gradient Boosting (RandomizedSearch)'] = {\"MAE\": mae_gb_random, \"MSE\": mse_gb_random, \"Model\": gb_random_search.best_estimator_}\n",
    "\n",
    "# Квантильная регрессия\n",
    "quantile_regressor = QuantileRegressor(alpha=0.1, quantile=0.5)  # 50-й квантиль (медиана)\n",
    "quantile_regressor.fit(X_train_scaled_robust, y_train_log)\n",
    "\n",
    "# Прогнозирование\n",
    "y_pred_quantile = quantile_regressor.predict(X_val_scaled_robust)\n",
    "mae_quantile = mean_absolute_error(y_val_log, y_pred_quantile)\n",
    "mse_quantile = mean_squared_error(y_val_log, y_pred_quantile)\n",
    "\n",
    "# Сравнение моделей\n",
    "print(f\"MAE для Gradient Boosting: {mae_gb_random:.2f}, MSE: {mse_gb_random:.2f}\")\n",
    "print(f\"MAE для Quantile Regression: {mae_quantile:.2f}, MSE: {mse_quantile:.2f}\")\n",
    "\n",
    "# Прогнозирование лучшей модели\n",
    "best_model_name = min(results, key=lambda x: results[x]['MSE'])\n",
    "best_model = results[best_model_name]['Model']\n",
    "print(f\"Лучшая модель после доработки: {best_model_name}\")\n",
    "\n",
    "# Прогнозы с лучшей моделью\n",
    "final_predictions = best_model.predict(X_predict_scaled_robust)\n",
    "predictions_df = pd.DataFrame({\"Actual\": y_predict, \"Predicted Gradient Boosting\": final_predictions})\n",
    "\n",
    "# Прогнозы с квантильной регрессией\n",
    "final_predictions_quantile = quantile_regressor.predict(X_predict_scaled_robust)\n",
    "predictions_df[\"Predicted Quantile Regression\"] = final_predictions_quantile\n",
    "\n",
    "print(\"Предсказания:\")\n",
    "print(predictions_df.head())\n",
    "\n",
    "# Визуализация\n",
    "names = list(results.keys())\n",
    "mae_values = [metrics['MAE'] for metrics in results.values()]\n",
    "mse_values = [metrics['MSE'] for metrics in results.values()]\n",
    "\n",
    "plt.figure(figsize=(10, 5))\n",
    "plt.bar(names, mae_values, alpha=0.7, label='MAE')\n",
    "plt.bar(names, mse_values, alpha=0.7, label='MSE', bottom=mae_values)\n",
    "plt.title(\"Сравнение моделей после доработки\")\n",
    "plt.ylabel(\"Ошибка\")\n",
    "plt.legend()\n",
    "plt.show()\n",
    "\n",
    "# Преобразование обратно из логарифмированных значений\n",
    "y_pred_gb_random_exp = np.exp(y_pred_gb_random) - epsilon  # Обратное преобразование для Gradient Boosting\n",
    "y_pred_quantile_exp = np.exp(y_pred_quantile) - epsilon  # Обратное преобразование для Quantile Regression\n",
    "\n",
    "# Визуализация предсказаний\n",
    "predictions_df['Predicted Gradient Boosting'] = y_pred_gb_random_exp\n",
    "predictions_df['Predicted Quantile Regression'] = y_pred_quantile_exp\n",
    "\n",
    "print(\"Предсказания после обратного преобразования:\")\n",
    "print(predictions_df.head())\n"
   ]
  },
  {
   "cell_type": "markdown",
   "id": "a07a1f04-0965-4a59-bfd6-3d07b906f032",
   "metadata": {},
   "source": [
    "НО результат всё равно проблемный :(  "
   ]
  },
  {
   "cell_type": "code",
   "execution_count": null,
   "id": "ef63e590-a516-4743-9f84-37d7c4582915",
   "metadata": {},
   "outputs": [],
   "source": []
  }
 ],
 "metadata": {
  "kernelspec": {
   "display_name": "Python 3 (ipykernel)",
   "language": "python",
   "name": "python3"
  },
  "language_info": {
   "codemirror_mode": {
    "name": "ipython",
    "version": 3
   },
   "file_extension": ".py",
   "mimetype": "text/x-python",
   "name": "python",
   "nbconvert_exporter": "python",
   "pygments_lexer": "ipython3",
   "version": "3.12.6"
  }
 },
 "nbformat": 4,
 "nbformat_minor": 5
}
