{
 "cells": [
  {
   "cell_type": "code",
   "execution_count": 17,
   "id": "4a60e7c8-aeba-4159-8f82-f6c358138a76",
   "metadata": {},
   "outputs": [],
   "source": [
    "# Этот код рассчитывает количество лет\n",
    "# для погашения кредита с заданной процентной ставкой\n",
    "# и ежегодного платежа."
   ]
  },
  {
   "cell_type": "code",
   "execution_count": 19,
   "id": "44ec505e-09a9-4553-b592-83dca809b836",
   "metadata": {},
   "outputs": [
    {
     "name": "stdin",
     "output_type": "stream",
     "text": [
      "Введите сумму кредита:  1000\n",
      "Введите годовую процентную ставку (в процентах):  15\n",
      "Введите сумму ежегодного платежа:  160\n"
     ]
    },
    {
     "name": "stdout",
     "output_type": "stream",
     "text": [
      "Кредит будет погашен через 20 лет\n"
     ]
    }
   ],
   "source": [
    "loan = float(input(\"Введите сумму кредита: \"))\n",
    "rate = float(input(\"Введите годовую процентную ставку (в процентах): \")) / 100  # Преобразуем процент в дробь\n",
    "pmt = float(input(\"Введите сумму ежегодного платежа: \"))\n",
    "\n",
    "if pmt <= (rate * loan):\n",
    "    print(\"Кредит никогда не будет погашен\")\n",
    "else:\n",
    "    n = 0  # Начинаем с 0 лет\n",
    "    while loan > 0:\n",
    "        loan = loan + loan * rate - pmt\n",
    "        n += 1\n",
    "        if loan <= 0:  # Завершаем цикл, когда кредит полностью погашен\n",
    "            break\n",
    "    if n == 1:\n",
    "        print(\"Кредит будет погашен через\", n, \"год\")\n",
    "    elif 2 <= n <= 4:\n",
    "        print(\"Кредит будет погашен через\", n, \"года\")\n",
    "    else:\n",
    "        print(\"Кредит будет погашен через\", n, \"лет\")\n"
   ]
  },
  {
   "cell_type": "code",
   "execution_count": null,
   "id": "511194e2-aa7e-4305-9f90-8fc9366cb6de",
   "metadata": {},
   "outputs": [],
   "source": [
    "# Этот код рассчитывает количество лет и месяцев\n",
    "# для погашения кредита с заданной процентной ставкой\n",
    "# и ежемесячными платежами."
   ]
  },
  {
   "cell_type": "code",
   "execution_count": 20,
   "id": "24b90c73-8e03-4d28-a39b-d1bb8ee67fb6",
   "metadata": {},
   "outputs": [
    {
     "name": "stdin",
     "output_type": "stream",
     "text": [
      "Введите сумму кредита:  1000\n",
      "Введите годовую процентную ставку (в процентах):  15\n",
      "Введите сумму ежемесячного платежа:  100\n"
     ]
    },
    {
     "name": "stdout",
     "output_type": "stream",
     "text": [
      "Кредит будет погашен через 11 месяцев\n"
     ]
    }
   ],
   "source": [
    "loan = float(input(\"Введите сумму кредита: \"))\n",
    "rate = float(input(\"Введите годовую процентную ставку (в процентах): \")) / 100 / 12  # Преобразуем годовую ставку в месячную\n",
    "pmt = float(input(\"Введите сумму ежемесячного платежа: \"))\n",
    "\n",
    "if pmt <= (rate * loan):\n",
    "    print(\"Кредит никогда не будет погашен\")\n",
    "else:\n",
    "    months = 0  # Инициализируем количество месяцев\n",
    "    while loan > 0:\n",
    "        loan = loan + loan * rate - pmt\n",
    "        months += 1\n",
    "        if loan <= 0:\n",
    "            break\n",
    "    \n",
    "    years = months // 12  # Целое число лет\n",
    "    remaining_months = months % 12  # Оставшиеся месяцы\n",
    "    \n",
    "    # Выводим правильное сообщение в зависимости от количества лет и месяцев\n",
    "    if years == 0:\n",
    "        if remaining_months == 1:\n",
    "            print(\"Кредит будет погашен через 1 месяц\")\n",
    "        else:\n",
    "            print(f\"Кредит будет погашен через {remaining_months} месяцев\")\n",
    "    elif years == 1:\n",
    "        if remaining_months == 0:\n",
    "            print(\"Кредит будет погашен через 1 год\")\n",
    "        elif remaining_months == 1:\n",
    "            print(f\"Кредит будет погашен через 1 год и 1 месяц\")\n",
    "        else:\n",
    "            print(f\"Кредит будет погашен через 1 год и {remaining_months} месяцев\")\n",
    "    else:\n",
    "        if remaining_months == 0:\n",
    "            print(f\"Кредит будет погашен через {years} лет\")\n",
    "        elif remaining_months == 1:\n",
    "            print(f\"Кредит будет погашен через {years} лет и 1 месяц\")\n",
    "        else:\n",
    "            print(f\"Кредит будет погашен через {years} лет и {remaining_months} месяцев\")\n"
   ]
  },
  {
   "cell_type": "code",
   "execution_count": null,
   "id": "63e2f1d8-df85-4a56-9aa9-2554a2d1fe37",
   "metadata": {},
   "outputs": [],
   "source": []
  }
 ],
 "metadata": {
  "kernelspec": {
   "display_name": "Python 3 (ipykernel)",
   "language": "python",
   "name": "python3"
  },
  "language_info": {
   "codemirror_mode": {
    "name": "ipython",
    "version": 3
   },
   "file_extension": ".py",
   "mimetype": "text/x-python",
   "name": "python",
   "nbconvert_exporter": "python",
   "pygments_lexer": "ipython3",
   "version": "3.12.6"
  }
 },
 "nbformat": 4,
 "nbformat_minor": 5
}
