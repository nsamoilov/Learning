{
 "cells": [
  {
   "cell_type": "code",
   "execution_count": 8,
   "id": "62b83d2f-e5e1-4def-b1ff-e4708eeb55fc",
   "metadata": {},
   "outputs": [
    {
     "name": "stdout",
     "output_type": "stream",
     "text": [
      "        Date           NSE    Gold    CPI\n",
      "0 2021-07-01  15763.049805  1812.6  162.5\n",
      "1 2021-06-01  15721.500000  1770.8  161.3\n",
      "2 2021-05-01  15582.799805  1902.5  160.4\n",
      "3 2021-04-01  14631.099609  1767.3  157.8\n",
      "4 2021-03-01  14690.700195  1713.8  156.8\n"
     ]
    }
   ],
   "source": [
    "import pandas as pd\n",
    "\n",
    "# Подключаю датасет\n",
    "url = \"https://github.com/YBI-Foundation/Dataset/raw/main/NSE%20Gold%20CPI%20.xlsx\" #Да, там эксель\n",
    "data = pd.read_excel(url, engine='openpyxl') #Понадобиться pip install openpyxl\n",
    "\n",
    "# Проверяем, как выглядят данные\n",
    "print(data.head())"
   ]
  },
  {
   "cell_type": "code",
   "execution_count": 9,
   "id": "5c495242-69ba-4888-aa01-b39f8e3de53c",
   "metadata": {},
   "outputs": [
    {
     "name": "stdout",
     "output_type": "stream",
     "text": [
      "Результат функции apply:\n",
      " Date\n",
      "2017    122.0\n",
      "2018    138.7\n",
      "2019    327.6\n",
      "2020    502.0\n",
      "2021    188.7\n",
      "Name: Gold, dtype: float64\n"
     ]
    }
   ],
   "source": [
    "# Преобразуем столбец с датой в формат datetime\n",
    "data['Date'] = pd.to_datetime(data['Date'])\n",
    "\n",
    "# 1. Функция для apply / для считавание разницы между максимальным и минимальным значениями в группе\n",
    "def range_func(x):\n",
    "    return x.max() - x.min()\n",
    "\n",
    "# Применяем функцию к сгруппированным данным по году с помощью apply\n",
    "result_apply = data.groupby(data['Date'].dt.year)['Gold'].apply(range_func)\n",
    "print(\"Результат функции apply:\\n\", result_apply)"
   ]
  },
  {
   "cell_type": "code",
   "execution_count": 10,
   "id": "faceec19-e395-4f4a-92fd-891a8ad7e302",
   "metadata": {},
   "outputs": [
    {
     "name": "stdout",
     "output_type": "stream",
     "text": [
      "\n",
      "Результат функции transform:\n",
      "         Date    Gold  Normalized_Gold\n",
      "0 2021-07-01  1812.6              1.0\n",
      "1 2021-06-01  1770.8              1.0\n",
      "2 2021-05-01  1902.5              1.0\n",
      "3 2021-04-01  1767.3              1.0\n",
      "4 2021-03-01  1713.8              1.0\n"
     ]
    }
   ],
   "source": [
    "# 2. Функция для transform / для нормировании данных каждого месяца к их максимальному значению\n",
    "def normalize(x):\n",
    "    return x / x.max()\n",
    "\n",
    "# Применяем функцию transform к данным, сгруппированным по месяцу\n",
    "data['Normalized_Gold'] = data.groupby(data['Date'].dt.month)['Gold'].transform(normalize)\n",
    "print(\"\\nРезультат функции transform:\\n\", data[['Date', 'Gold', 'Normalized_Gold']].head())"
   ]
  },
  {
   "cell_type": "code",
   "execution_count": 11,
   "id": "d090bebd-9eea-4cb4-b0a7-e76deedaee46",
   "metadata": {},
   "outputs": [
    {
     "name": "stdout",
     "output_type": "stream",
     "text": [
      "\n",
      "Результат функции map:\n",
      "         Date    Gold  Rounded_Gold\n",
      "0 2021-07-01  1812.6          1813\n",
      "1 2021-06-01  1770.8          1771\n",
      "2 2021-05-01  1902.5          1902\n",
      "3 2021-04-01  1767.3          1767\n",
      "4 2021-03-01  1713.8          1714\n"
     ]
    }
   ],
   "source": [
    "# 3. Функция для map / округление значений столбца Gold до целого числа\n",
    "data['Rounded_Gold'] = data['Gold'].map(lambda x: round(x))\n",
    "print(\"\\nРезультат функции map:\\n\", data[['Date', 'Gold', 'Rounded_Gold']].head())"
   ]
  },
  {
   "cell_type": "code",
   "execution_count": 12,
   "id": "cd2083f5-07b9-4c70-8098-2cbfb9f835cb",
   "metadata": {},
   "outputs": [
    {
     "name": "stdout",
     "output_type": "stream",
     "text": [
      "\n",
      "Ресемплированные данные по месяцам:\n",
      "               Gold  Normalized_Gold\n",
      "Date                               \n",
      "2017-06-30  1271.5         0.718037\n",
      "2017-07-31  1170.8         0.645923\n",
      "2017-08-31  1150.0         0.585898\n",
      "2017-09-30  1252.6         0.636613\n",
      "2017-10-31  1247.3         0.660821\n"
     ]
    }
   ],
   "source": [
    "# 4. Ресемплирование данных по месяцам, вычисляем среднее значение по каждому месяцу\n",
    "monthly_data = data.resample('ME', on='Date').mean()\n",
    "print(\"\\nРесемплированные данные по месяцам:\\n\", monthly_data[['Gold', 'Normalized_Gold']].head())"
   ]
  },
  {
   "cell_type": "markdown",
   "id": "c40f5d78-ab30-440e-ad2a-9bff272bf0ee",
   "metadata": {},
   "source": [
    "### Итак, делаю пометки для себя с привязкой к трактовке данных:"
   ]
  },
  {
   "cell_type": "markdown",
   "id": "0cad22bb-c15d-42b9-bc02-177c86916275",
   "metadata": {},
   "source": [
    "- Функция с apply: вычисление диапазона (разницы между максимальным и минимальным значением) для определенных групп (например, по годам) помогает анализировать волатильность цены золота в каждый год. Такой подход полезен для выявления рисков и тенденций.\n",
    "\n",
    "- Функция с transform: нормализация данных по месяцам позволяет сравнивать значения относительно максимума месяца. Это часто используется в сезонных и временных рядах для выявления отклонений от обычного поведения.\n",
    "\n",
    "- Функция с map: округление данных позволяет сделать значения более читабельными, что полезно для отчётов и визуализаций.\n",
    "\n",
    "- Ресемплирование с resample: агрегирование данных в более крупные интервалы (например, месячные средние значения) полезно для выявления долгосрочных трендов и сглаживания шума в данных."
   ]
  },
  {
   "cell_type": "markdown",
   "id": "d6110d97-14f0-46d5-a780-264be6fee71b",
   "metadata": {},
   "source": [
    "Можно юзать для анализа рынка акций, товарных рынков и других временных рядов, чтобы принимать более обоснованные решения."
   ]
  },
  {
   "cell_type": "code",
   "execution_count": null,
   "id": "d39b3c4a-be2c-4588-95b4-aca1756a02f4",
   "metadata": {},
   "outputs": [],
   "source": []
  }
 ],
 "metadata": {
  "kernelspec": {
   "display_name": "Python 3 (ipykernel)",
   "language": "python",
   "name": "python3"
  },
  "language_info": {
   "codemirror_mode": {
    "name": "ipython",
    "version": 3
   },
   "file_extension": ".py",
   "mimetype": "text/x-python",
   "name": "python",
   "nbconvert_exporter": "python",
   "pygments_lexer": "ipython3",
   "version": "3.12.6"
  }
 },
 "nbformat": 4,
 "nbformat_minor": 5
}
